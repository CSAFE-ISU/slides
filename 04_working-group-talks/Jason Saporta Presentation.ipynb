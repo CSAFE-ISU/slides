{
 "cells": [
  {
   "cell_type": "markdown",
   "metadata": {},
   "source": [
    "# Evaluating Monte Carlo Error of Random Forest Algorithms for Bullet Land Matching"
   ]
  },
  {
   "cell_type": "markdown",
   "metadata": {},
   "source": [
    "## Methods"
   ]
  },
  {
   "cell_type": "markdown",
   "metadata": {},
   "source": [
    "### Random Forests"
   ]
  },
  {
   "cell_type": "markdown",
   "metadata": {},
   "source": [
    "- Take many bootstrap samples from the training set and train a decision tree on each one\n",
    "- For each decision tree, for each split, maximize Gini impurity over all possible splits on a randomly-chosen subset of features"
   ]
  },
  {
   "cell_type": "markdown",
   "metadata": {},
   "source": [
    "### Bayesian Forests"
   ]
  },
  {
   "cell_type": "markdown",
   "metadata": {},
   "source": [
    "- Bootstrapping can be viewed as taking a size-$n$ sample from a multinomial distribution with categories corresponding to each $\\mathbf{x}_i$ value. The probability of each category is $\\frac{1}{n}$.\n",
    "- The Bayesian bootstrap simply adds a Dirichlet level to the hierarchy. First, a vector of $n$ probability values (summing to 1) is generated from a Dirichlet distribution, each with mean $\\frac{1}{n}$. These probabilities are then used as the class probabilities for the multinomial draw.\n",
    "- Use the Bayesian bootstrap over the standard one in the random forest algorithm to get \"Bayesian forests\"."
   ]
  },
  {
   "cell_type": "markdown",
   "metadata": {},
   "source": [
    "### Extra-Trees"
   ]
  },
  {
   "cell_type": "markdown",
   "metadata": {},
   "source": [
    "- Use the standard bootstrap.\n",
    "- For each split (with its corresponding subset of features), don't search over the set of all splits. Instead, choose the best of a small number of randomly-chosen splits."
   ]
  },
  {
   "cell_type": "markdown",
   "metadata": {},
   "source": [
    "### Random Rotation Forests"
   ]
  },
  {
   "cell_type": "markdown",
   "metadata": {},
   "source": [
    "- Do everything as in a standard random forest algorithm, except...\n",
    "- Also randomly rotate the input space before training each decision tree."
   ]
  },
  {
   "cell_type": "markdown",
   "metadata": {},
   "source": [
    "### (BART)"
   ]
  },
  {
   "cell_type": "markdown",
   "metadata": {},
   "source": [
    "Fit the model:\n",
    "$$ y \\sim \\text{Bernoulli}(p) $$\n",
    "with\n",
    "$$ p = \\Phi \\left[ \\sum_{i = 1}^m h_i(x) \\right]$$\n",
    "\n",
    "where each $ h_i(x) $ is a decision tree.\n",
    "\n",
    "- Put priors on decision trees by specifying priors:\n",
    "  - the probability that a given node is terminal\n",
    "  - the probability of a particular split at a node\n",
    "  - the probability of a particular terminal node value\n",
    "- Use a Gibbs sampler to get a posterior distribution.\n",
    "- Sampling from full conditionals requires a weird version of the Metropolis-Hastings algorithm."
   ]
  },
  {
   "cell_type": "markdown",
   "metadata": {},
   "source": [
    "## Plots"
   ]
  },
  {
   "cell_type": "markdown",
   "metadata": {},
   "source": [
    "### ROC Curves, Faceted by Method and Dataset"
   ]
  },
  {
   "cell_type": "markdown",
   "metadata": {},
   "source": [
    "![](images/roc_plot_12.png)"
   ]
  },
  {
   "cell_type": "markdown",
   "metadata": {},
   "source": [
    "### Interval Width Distributions"
   ]
  },
  {
   "cell_type": "markdown",
   "metadata": {},
   "source": [
    "![](images/big_plot.png)"
   ]
  },
  {
   "cell_type": "markdown",
   "metadata": {},
   "source": [
    "### Interval Widths by Predicted Score"
   ]
  },
  {
   "cell_type": "markdown",
   "metadata": {},
   "source": [
    "![](images/scatterplot_widths.png)"
   ]
  }
 ],
 "metadata": {
  "kernelspec": {
   "display_name": "Python 3",
   "language": "python",
   "name": "python3"
  },
  "language_info": {
   "codemirror_mode": {
    "name": "ipython",
    "version": 3
   },
   "file_extension": ".py",
   "mimetype": "text/x-python",
   "name": "python",
   "nbconvert_exporter": "python",
   "pygments_lexer": "ipython3",
   "version": "3.6.5"
  }
 },
 "nbformat": 4,
 "nbformat_minor": 2
}
